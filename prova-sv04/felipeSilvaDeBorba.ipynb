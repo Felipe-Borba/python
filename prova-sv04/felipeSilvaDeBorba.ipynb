{
 "cells": [
  {
   "cell_type": "markdown",
   "id": "03ae31de",
   "metadata": {},
   "source": [
    "# Caro aluno, favor adicionar o seu nome no arquivo do jupyter antes de submeter para avaliação\n"
   ]
  },
  {
   "cell_type": "markdown",
   "id": "a0986e7a",
   "metadata": {},
   "source": [
    "Exemplo: felipeSilvaDeBorba.ipynb\n"
   ]
  },
  {
   "cell_type": "markdown",
   "id": "134ef3ed",
   "metadata": {},
   "source": [
    "<div style=\"text-align: center\"> <h2> \n",
    "    Estudo de caso: jogos de\n",
    "palavras\n",
    "    </h2> </div>\n"
   ]
  },
  {
   "cell_type": "markdown",
   "id": "a1747a05",
   "metadata": {},
   "source": [
    "Vamos estudar o caso que envolve solucionar quebra-cabeças\n",
    "usando palavras com certas propriedades. Por exemplo, encontraremos os palíndromos\n",
    "mais longos em inglês e procuraremos palavras cujas letras apareçam em ordem\n",
    "alfabética.\n"
   ]
  },
  {
   "cell_type": "markdown",
   "id": "329374fd",
   "metadata": {},
   "source": [
    "Vamos usar uma lista de palavras em inglês. Há muitas listas de palavras disponíveis na internet, mas a mais conveniente ao nosso propósito é uma das listas de palavras disponibilizadas em domínio público por Grady Ward (ver http://wikipedia.org/wiki/Moby_Project). É uma lista de 113.809 palavras cruzadas oficiais; isto é, as palavras que se consideram válidas em quebra-cabeças de palavras cruzadas e outros jogos de palavras. Na coleção Moby, o nome do arquivo é 113809of.fic; você pode baixar uma cópia, com um nome mais simples como words.txt, de http://thinkpython2.com/code/words.txt. Este arquivo está em texto simples, então você pode abri-lo com um editor de texto, mas também pode lê-lo no Python. A função integrada open recebe o nome do arquivo como um parâmetro e retorna um objeto de arquivo que você pode usar para ler o arquivo.\n"
   ]
  },
  {
   "cell_type": "code",
   "execution_count": null,
   "id": "1e831f9a",
   "metadata": {},
   "outputs": [],
   "source": [
    "\"\"\"fin é um nome comum de objeto de arquivo usado para entrada de dados. O objeto de\n",
    "arquivo oferece vários métodos de leitura, inclusive readline, que lê caracteres no arquivo\n",
    "até chegar a um comando de nova linha, devolvendo o resultado como uma string\"\"\"\n",
    "fin = open('words.txt')"
   ]
  },
  {
   "cell_type": "code",
   "execution_count": null,
   "id": "c700e1d2",
   "metadata": {},
   "outputs": [],
   "source": [
    "\"\"\"Você também pode usar um objeto de arquivo como parte de um loop for. Este programa\n",
    "lê words.txt e imprime cada palavra, uma por linha:\"\"\"\n",
    "fin = open('words.txt')\n",
    "for line in fin:\n",
    "    word = line.strip()\n",
    "    print(word)"
   ]
  },
  {
   "cell_type": "markdown",
   "id": "87d0d8b7",
   "metadata": {},
   "source": [
    "<div style=\"text-align: center\"> <h1> \n",
    "1- Questão (25 PONTOS) : Monte um script que informe qual das palavras no arquivo words.txt são palíndromas\n",
    "    </h1> </div>\n"
   ]
  },
  {
   "cell_type": "code",
   "execution_count": null,
   "id": "c9be01ce",
   "metadata": {},
   "outputs": [],
   "source": [
    "fin = open('words.txt')\n",
    "for line in fin:\n",
    "    word = line.strip()\n",
    "    if word == word[::-1]:\n",
    "      print(word)"
   ]
  },
  {
   "cell_type": "markdown",
   "id": "10240d0b",
   "metadata": {},
   "source": [
    "<div style=\"text-align: center\"> <h2> \n",
    "    O COVID 19 foi uma preocupação de todo o mundo, tivemos diversas mortes, casos e pessoas sendo testadas.\n",
    "    </h2> </div>\n"
   ]
  },
  {
   "cell_type": "code",
   "execution_count": null,
   "id": "8533c285",
   "metadata": {},
   "outputs": [],
   "source": [
    "#através de uma API conseguimos informações sobre o COVID19 em todo mundo, verifique o arquivo em json\n",
    "import json\n",
    "f = open('covid19.json')\n",
    "data = json.load(f)\n",
    "print(data)"
   ]
  },
  {
   "cell_type": "markdown",
   "id": "38c98f6a",
   "metadata": {},
   "source": [
    "<div style=\"text-align: center\"> <h1> \n",
    "2- Questão (25 PONTOS) : Monte um script que informe o total de mortes em todo o mundo de acordo com o arquivo covid19.json\n",
    "    </h1> </div>\n"
   ]
  },
  {
   "cell_type": "code",
   "execution_count": null,
   "id": "46a30130",
   "metadata": {},
   "outputs": [],
   "source": [
    "\n",
    "import json\n",
    "f = open('covid19.json')\n",
    "data = json.load(f)\n",
    "\n",
    "all_country = next(item for item in data['response'] if item[\"country\"] == \"All\")\n",
    "\n",
    "print(all_country['deaths']['total'])"
   ]
  },
  {
   "cell_type": "markdown",
   "id": "c8f015c8",
   "metadata": {},
   "source": [
    "<div style=\"text-align: center\"> <h1> 3- Questão (15\n",
    "    PONTOS) : Monte um script que informe o total de mortes em cada continente (North America, Europe, Asia, South America, Oceania e Africa) de acordo com o arquivo covid19.json </h1> </div>\n"
   ]
  },
  {
   "cell_type": "code",
   "execution_count": null,
   "id": "64b0eff1",
   "metadata": {},
   "outputs": [],
   "source": [
    "import json\n",
    "f = open('covid19.json')\n",
    "data = json.load(f)\n",
    "\n",
    "deaths_by_continent = {}\n",
    "for response in data['response']:\n",
    "  deaths = response['deaths']\n",
    "  continent = response['continent']\n",
    "\n",
    "  if continent in deaths_by_continent:\n",
    "    deaths_by_continent[continent] += deaths['total']\n",
    "  else:\n",
    "    deaths_by_continent[continent] = deaths['total']\n",
    "\n",
    "print(deaths_by_continent)\n"
   ]
  },
  {
   "cell_type": "markdown",
   "id": "75883d55",
   "metadata": {},
   "source": [
    "<div style=\"text-align: center\"> <h1> 4- Questão (15 PONTOS) : Monte um script que informe qual o pais teve mais mortes e mais recuperados de acordo com o arquivo covid19.json </h1> </div>\n"
   ]
  },
  {
   "cell_type": "code",
   "execution_count": null,
   "id": "ac5b8ddf",
   "metadata": {},
   "outputs": [],
   "source": [
    "import json\n",
    "f = open('covid19.json')\n",
    "data = json.load(f)\n",
    "\n",
    "most_deaths = 0\n",
    "most_recovered = 0\n",
    "country = ''\n",
    "for response in data['response']:\n",
    "  deaths = response['deaths']['total']\n",
    "  recovered = response['cases']['recovered']\n",
    "  current_country = response['country']\n",
    "\n",
    "  if deaths > most_deaths and recovered > most_recovered and current_country != 'All' and current_country != 'Europe'and current_country != 'North-America':\n",
    "    country = current_country\n",
    "    most_deaths = deaths\n",
    "    most_recovered = recovered\n",
    "\n",
    "\n",
    "print(country)\n"
   ]
  },
  {
   "cell_type": "markdown",
   "id": "aecbf27c",
   "metadata": {},
   "source": [
    "<div style=\"text-align: center\"> <h1> 5- Questão (10 PONTOS) : Monte um script que informe a soma de mortes do Brasil e USA de acordo com o arquivo covid19.json </h1> </div>\n"
   ]
  },
  {
   "cell_type": "code",
   "execution_count": null,
   "id": "e56971e6",
   "metadata": {},
   "outputs": [],
   "source": [
    "import json\n",
    "f = open('covid19.json')\n",
    "data = json.load(f)\n",
    "\n",
    "\n",
    "brazil = next(item for item in data['response'] if item[\"country\"] == \"Brazil\")\n",
    "usa = next(item for item in data['response'] if item[\"country\"] == \"USA\")\n",
    "\n",
    "print(brazil['deaths']['total'] + usa['deaths']['total'])"
   ]
  },
  {
   "cell_type": "markdown",
   "id": "835671c4",
   "metadata": {},
   "source": [
    "<div style=\"text-align: center\"> <h1> 6- Questão (10 PONTOS) : Monte um script que informe a quantidade de testados do Brasil e USA de acordo com o arquivo covid19.json </h1> </div>\n"
   ]
  },
  {
   "cell_type": "code",
   "execution_count": null,
   "id": "3c0db8e8",
   "metadata": {},
   "outputs": [],
   "source": [
    "import json\n",
    "f = open('covid19.json')\n",
    "data = json.load(f)\n",
    "\n",
    "\n",
    "brazil = next(item for item in data['response'] if item[\"country\"] == \"Brazil\")\n",
    "usa = next(item for item in data['response'] if item[\"country\"] == \"USA\")\n",
    "\n",
    "print(brazil['tests']['total'] + usa['tests']['total'])"
   ]
  }
 ],
 "metadata": {
  "kernelspec": {
   "display_name": "Python 3.10.6 64-bit",
   "language": "python",
   "name": "python3"
  },
  "language_info": {
   "codemirror_mode": {
    "name": "ipython",
    "version": 3
   },
   "file_extension": ".py",
   "mimetype": "text/x-python",
   "name": "python",
   "nbconvert_exporter": "python",
   "pygments_lexer": "ipython3",
   "version": "3.10.6 (main, Nov 14 2022, 16:10:14) [GCC 11.3.0]"
  },
  "vscode": {
   "interpreter": {
    "hash": "916dbcbb3f70747c44a77c7bcd40155683ae19c65e1c03b4aa3499c5328201f1"
   }
  }
 },
 "nbformat": 4,
 "nbformat_minor": 5
}
