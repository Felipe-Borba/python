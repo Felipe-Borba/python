{
 "cells": [
  {
   "attachments": {},
   "cell_type": "markdown",
   "metadata": {},
   "source": [
    "Leia um valor float. A seguir, calcule o maior número de notas e moedas possíveis (cédulas) no qual o valor pode ser decomposto. As notas consideradas são de 100, 50, 20, 10, 5, 2 e 1 e as moedas são, 50, 25, 10, 5 e 1 A seguir mostre o valor lido e a relação de notas necessárias.\n",
    "\n",
    "Entrada\n",
    "O arquivo de entrada contém um valor float N (0 < N < 999.99).\n",
    "\n",
    "Saída\n",
    "Imprima o valor lido e, em seguida, a quantidade máxima de notas e moedas de cada tipo necessárias, conforme o exemplo fornecido. \n",
    "\n",
    "Exemplo de Entrada\tExemplo de Saída\n",
    "576.55\n",
    "\n",
    "576\n",
    "0 nota(s) de R$ 100,00\n",
    "0 nota(s) de R$ 50,00\n",
    "0 nota(s) de R$ 20,00\n",
    "0 nota(s) de R$ 10,00\n",
    "0 nota(s) de R$ 5,00\n",
    "0 nota(s) de R$ 2,00\n",
    "576 nota(s) de R$ 1,00\n",
    "\n",
    "0 moeda(s) de 50 centavos\n",
    "\n",
    "0 moeda(s) de 25 centavos\n",
    "\n",
    "0 moeda(s) de 10 centavos\n",
    "\n",
    "0 moeda(s) de 5 centavos\n",
    "\n",
    "55 moeda(s) de 1 centavo\n",
    "\n"
   ]
  },
  {
   "cell_type": "code",
   "execution_count": 10,
   "metadata": {},
   "outputs": [
    {
     "name": "stdout",
     "output_type": "stream",
     "text": [
      "\n",
      "0 nota(s) de R$ 100,00\n",
      "0 nota(s) de R$ 50,00\n",
      "0 nota(s) de R$ 20,00\n",
      "0 nota(s) de R$ 10,00\n",
      "0 nota(s) de R$ 5,00\n",
      "0 nota(s) de R$ 2,00\n",
      "576 nota(s) de R$ 1,00\n",
      "\n",
      "0 moeda(s) de 50 centavos\n",
      "\n",
      "0 moeda(s) de 25 centavos\n",
      "\n",
      "0 moeda(s) de 10 centavos\n",
      "\n",
      "0 moeda(s) de 5 centavos\n",
      "\n",
      "0.55 moeda(s) de 1 centavo\n",
      "\n"
     ]
    }
   ],
   "source": [
    "\n",
    "# valor_inicial = 576.55\n",
    "valor = input('Digite o valor inicial')\n",
    "valor_inicial = float(valor)\n",
    "\n",
    "notas_1_real = int(valor_inicial)\n",
    "centavos = valor_inicial - notas_1_real\n",
    "\n",
    "\n",
    "print(\"\"\"\n",
    "0 nota(s) de R$ 100,00\n",
    "0 nota(s) de R$ 50,00\n",
    "0 nota(s) de R$ 20,00\n",
    "0 nota(s) de R$ 10,00\n",
    "0 nota(s) de R$ 5,00\n",
    "0 nota(s) de R$ 2,00\n",
    "{} nota(s) de R$ 1,00\n",
    "\n",
    "0 moeda(s) de 50 centavos\n",
    "\n",
    "0 moeda(s) de 25 centavos\n",
    "\n",
    "0 moeda(s) de 10 centavos\n",
    "\n",
    "0 moeda(s) de 5 centavos\n",
    "\n",
    "{:.2f} moeda(s) de 1 centavo\n",
    "\"\"\".format(notas_1_real, centavos))\n"
   ]
  },
  {
   "attachments": {},
   "cell_type": "markdown",
   "metadata": {},
   "source": [
    "Leia 5 valores inteiros e ordene-os em ordem crescente. No final, mostre os valores em ordem crescente, uma linha em branco e em seguida, os valores na sequência como foram lidos.\n",
    "\n",
    "Entrada\n",
    "A entrada contém cinco números inteiros.\n",
    "\n",
    "Saída\n",
    "Imprima a saída conforme foi especificado.\n",
    "\n",
    " \n",
    "Exemplo de Entrada\tExemplo de Saída\n",
    "1 2 -3 5 4\n",
    "\n",
    "-3 1 2 4 5\n",
    "\n",
    "\n",
    "1 2 -3 5 4"
   ]
  },
  {
   "cell_type": "code",
   "execution_count": 16,
   "metadata": {},
   "outputs": [
    {
     "name": "stdout",
     "output_type": "stream",
     "text": [
      "[-3, 1, 2, 4, 5] \n",
      "\n",
      "[1, 2, -3, 5, 4]\n"
     ]
    }
   ],
   "source": [
    "# entrada = '1 2 -3 5 4'\n",
    "entrada = input('digite 5 valores separados por virgula')\n",
    "valores_raw = entrada.split()\n",
    "valores = [int(a) for a in valores_raw]\n",
    "crescente = sorted(valores)\n",
    "print(crescente, '\\n')\n",
    "print(valores)"
   ]
  },
  {
   "attachments": {},
   "cell_type": "markdown",
   "metadata": {},
   "source": [
    "Leia a hora inicial, minuto inicial, hora final e minuto final. A seguir calcule a duração total.\n",
    "\n",
    "Obs: A duração mínima de um (1) minuto e duração máxima de 24 horas.\n",
    "\n",
    "Entrada\n",
    "Quatro números inteiros representando a hora de início e fim do jogo.\n",
    "\n",
    "Saída\n",
    "Mostre a seguinte mensagem: “O TEMPO DUROU XXX HORA(S) E YYY MINUTO(S)” .\n",
    "\n",
    " \n",
    "Exemplo de Entrada\tExemplo de Saída\n",
    "7 8 9 10\n",
    "\n",
    "O TEMPO DUROU 2 HORA(S) E 2 MINUTO(S)\n",
    "\n"
   ]
  },
  {
   "cell_type": "code",
   "execution_count": 38,
   "metadata": {},
   "outputs": [
    {
     "name": "stdout",
     "output_type": "stream",
     "text": [
      "O tempo durou 2 horas(s) e 02 minutos\n",
      "2:02:00\n"
     ]
    }
   ],
   "source": [
    "import datetime\n",
    "\n",
    "raw_hora_ini = input('digite a hora inicial')\n",
    "raw_minuto_ini = input('digite a minuto inicial')\n",
    "raw_hora_fim = input('digite a hora final')\n",
    "raw_minuto_fim = input('digite a hora final')\n",
    "\n",
    "time_ini = datetime.timedelta(hours=int(raw_hora_ini),minutes= int(raw_minuto_ini))\n",
    "time_fim = datetime.timedelta(hours=int(raw_hora_fim),minutes= int(raw_minuto_fim))\n",
    "delta = time_fim - time_ini\n",
    "\n",
    "time = delta.__str__().split(':')\n",
    "print('O tempo durou {} horas(s) e {} minutos'.format(time[0], time[1]))\n",
    "print(delta)\n"
   ]
  },
  {
   "attachments": {},
   "cell_type": "markdown",
   "metadata": {},
   "source": [
    "Faça um programa que leia o nome de um jogador de futebol, o seu salário fixo e o total de gols efetuadas por ele no mês. Sabendo que este jogador ganha 150 reais de comissão sobre seus gols, informar o total a receber no final do mês, com duas casas decimais.\n",
    "\n",
    "Entrada\n",
    "O arquivo de entrada contém um texto (primeiro nome do jogador) e 2 valores floats com duas casas decimais, representando o salário fixo do jogador e montante total de gols efetuadas por este jogador, respectivamente.\n",
    "\n",
    "Saída\n",
    "Imprima o total que o jogador deverá receber, conforme exemplo fornecido.\n",
    "\n",
    "Exemplos de Entrada\tExemplos de Saída\n",
    "JOAO\n",
    "500.00\n",
    "10 gols\n",
    "\n",
    "TOTAL = R$ 2000"
   ]
  },
  {
   "cell_type": "code",
   "execution_count": 40,
   "metadata": {},
   "outputs": [
    {
     "name": "stdout",
     "output_type": "stream",
     "text": [
      "total = 2000.00\n"
     ]
    }
   ],
   "source": [
    "# nome = 'joao'\n",
    "nome = input('Digite o nome')\n",
    "# salario = '500.00'\n",
    "salario = input('Digite o salario')\n",
    "# gols_mes = '10'\n",
    "gols_mes = input('Digite o total de gols por mes')\n",
    "\n",
    "total = float(salario) + int(gols_mes) * 150\n",
    "print('TOTAL = {:.2f}'.format(total))\n"
   ]
  },
  {
   "attachments": {},
   "cell_type": "markdown",
   "metadata": {},
   "source": [
    "Leia um valor float. A seguir, calcule o menor número de notas e moedas possíveis (cédulas) no qual o valor pode ser decomposto. As notas consideradas são de 100, 50, 20, 10, 5, 2 e 1 e as moedas são, 50, 25, 10, 5 e 1 A seguir mostre o valor lido e a relação de notas necessárias.\n",
    "\n",
    "Entrada\n",
    "O arquivo de entrada contém um valor float N (0 < N < 999.99).\n",
    "\n",
    "Saída\n",
    "Imprima o valor lido e, em seguida, a quantidade mínima de notas e moedas de cada tipo necessárias, conforme o exemplo fornecido. \n",
    "\n",
    "Exemplo de Entrada\tExemplo de Saída\n",
    "576.55\n",
    "\n",
    "576\n",
    "5 nota(s) de R$ 100,00\n",
    "1 nota(s) de R$ 50,00\n",
    "1 nota(s) de R$ 20,00\n",
    "0 nota(s) de R$ 10,00\n",
    "1 nota(s) de R$ 5,00\n",
    "0 nota(s) de R$ 2,00\n",
    "1 nota(s) de R$ 1,00\n",
    "\n",
    "1 moeda(s) de 50 centavos\n",
    "\n",
    "0 moeda(s) de 25 centavos\n",
    "\n",
    "0 moeda(s) de 10 centavos\n",
    "\n",
    "1 moeda(s) de 5 centavos\n",
    "\n",
    "0 moeda(s) de 1 centavo\n",
    "\n"
   ]
  },
  {
   "cell_type": "code",
   "execution_count": 80,
   "metadata": {},
   "outputs": [
    {
     "name": "stdout",
     "output_type": "stream",
     "text": [
      "5 nota(s) de R$ 100\n",
      "1 nota(s) de R$ 50\n",
      "1 nota(s) de R$ 20\n",
      "0 nota(s) de R$ 10\n",
      "1 nota(s) de R$ 5\n",
      "0 nota(s) de R$ 2\n",
      "1 nota(s) de R$ 1\n",
      "1 moeda(s) de 50 centavo\n",
      "0 moeda(s) de 25 centavo\n",
      "0 moeda(s) de 10 centavo\n",
      "1 moeda(s) de 5 centavo\n",
      "0 moeda(s) de 1 centavo\n"
     ]
    }
   ],
   "source": [
    "# valor = 576.55\n",
    "raw_valor = input('digite o valor')\n",
    "valor = float(raw_valor)\n",
    "notas = {100: 0, 50: 0, 20:0, 10:0, 5:0, 2:0, 1:0}\n",
    "moedas = {50:0, 25:0, 10:0, 5:0, 1:0}\n",
    "\n",
    "\n",
    "valor_notas = int(valor)\n",
    "for nota in notas:\n",
    "  while valor_notas - nota >= 0:\n",
    "    notas[nota] += 1\n",
    "    valor_notas -= nota\n",
    "\n",
    "valor_moedas = round((valor - int(valor)) * 100)\n",
    "for moeda in moedas:\n",
    "  while valor_moedas - moeda >= 0:\n",
    "    moedas[moeda] += 1\n",
    "    valor_moedas -= moeda\n",
    "\n",
    "\n",
    "for nota, quantity in notas.items():\n",
    "  print('{} nota(s) de R$ {}'.format(quantity, nota))\n",
    "\n",
    "for moeda, quantity in moedas.items():\n",
    "  print('{} moeda(s) de {} centavo'.format(quantity, moeda))\n"
   ]
  },
  {
   "attachments": {},
   "cell_type": "markdown",
   "metadata": {},
   "source": [
    "Leia a hora inicial, minuto inicial e segundo inicial, hora final e minuto final e segundo final. A seguir calcule a duração total.\n",
    "\n",
    "Obs: A duração mínima de um (1) minuto e duração máxima de 24 horas.\n",
    "\n",
    "Entrada\n",
    "Seis números inteiros representando a hora de início e fim do jogo.\n",
    "\n",
    "Saída\n",
    "Mostre a seguinte mensagem: “O TEMPO DUROU XXX HORA(S) E YYY MINUTO(S) e ZZZ SEGUNDO(S)” .\n",
    "\n",
    " \n",
    "Exemplo de Entrada\tExemplo de Saída\n",
    "7 8 0 9 10 2 \n",
    "\n",
    "O TEMPO DUROU 2 HORA(S) E 2 MINUTO(S) e 2 SEGUNDO(S)\n",
    "\n"
   ]
  },
  {
   "cell_type": "code",
   "execution_count": 42,
   "metadata": {},
   "outputs": [
    {
     "name": "stdout",
     "output_type": "stream",
     "text": [
      "O tempo durou 2 horas(s) e 02 minutos e 02 segundo(s)\n",
      "2:02:02\n"
     ]
    }
   ],
   "source": [
    "import datetime\n",
    "\n",
    "raw_hora_ini = input('digite a hora inicial')\n",
    "raw_minuto_ini = input('digite a minuto inicial')\n",
    "raw_segundo_ini = input('digite o segundo inicial')\n",
    "raw_hora_fim = input('digite a hora final')\n",
    "raw_minuto_fim = input('digite a hora final')\n",
    "raw_segundo_fim = input('digite o segundo final')\n",
    "\n",
    "time_ini = datetime.timedelta(hours=int(raw_hora_ini),minutes= int(raw_minuto_ini), seconds=float(raw_segundo_ini))\n",
    "time_fim = datetime.timedelta(hours=int(raw_hora_fim),minutes= int(raw_minuto_fim), seconds=float(raw_segundo_fim))\n",
    "delta = time_fim - time_ini\n",
    "\n",
    "time = delta.__str__().split(':')\n",
    "print('O tempo durou {} horas(s) e {} minutos e {} segundo(s)'.format(time[0], time[1], time[2]))\n",
    "print(delta)"
   ]
  }
 ],
 "metadata": {
  "kernelspec": {
   "display_name": "Python 3",
   "language": "python",
   "name": "python3"
  },
  "language_info": {
   "codemirror_mode": {
    "name": "ipython",
    "version": 3
   },
   "file_extension": ".py",
   "mimetype": "text/x-python",
   "name": "python",
   "nbconvert_exporter": "python",
   "pygments_lexer": "ipython3",
   "version": "3.10.6 (main, Nov 14 2022, 16:10:14) [GCC 11.3.0]"
  },
  "orig_nbformat": 4,
  "vscode": {
   "interpreter": {
    "hash": "916dbcbb3f70747c44a77c7bcd40155683ae19c65e1c03b4aa3499c5328201f1"
   }
  }
 },
 "nbformat": 4,
 "nbformat_minor": 2
}
